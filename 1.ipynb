{
 "cells": [
  {
   "cell_type": "code",
   "execution_count": 14,
   "metadata": {},
   "outputs": [],
   "source": [
    "import os\n",
    "import cv2\n",
    "import numpy as np\n",
    "import pandas as pd\n",
    "import matplotlib.pyplot as plt\n",
    "from sklearn.model_selection import train_test_split\n",
    "from sklearn.preprocessing import LabelEncoder\n",
    "from sklearn import svm, neighbors, ensemble\n",
    "from sklearn.metrics import classification_report, accuracy_score\n",
    "import joblib\n",
    "import tensorflow as tf\n",
    "from keras.models import Sequential\n",
    "from keras.layers import Conv2D, MaxPooling2D, Flatten, Dense\n",
    "from sklearn.model_selection import GridSearchCV"
   ]
  },
  {
   "cell_type": "code",
   "execution_count": 15,
   "metadata": {},
   "outputs": [],
   "source": [
    "data_dir = \"/home/hpcsap/my pro/deep_and_fake\"\n",
    "\n",
    "real_dir = os.path.join(data_dir, \"real_images\")\n",
    "fake_dir = os.path.join(data_dir, \"deepfake_images\")\n",
    "\n",
    "real_images = os.listdir(real_dir)\n",
    "fake_images = os.listdir(fake_dir)\n",
    "\n",
    "data = []\n",
    "labels = []\n",
    "\n",
    "for img in real_images:\n",
    "    img_path = os.path.join(real_dir, img)\n",
    "    img_data = cv2.imread(img_path)\n",
    "    img_data = cv2.resize(img_data, (100, 100))\n",
    "    data.append(img_data)\n",
    "    labels.append(\"Real\")\n",
    "\n",
    "for img in fake_images:\n",
    "    img_path = os.path.join(fake_dir, img)\n",
    "    img_data = cv2.imread(img_path)\n",
    "    img_data = cv2.resize(img_data, (100, 100))\n",
    "    data.append(img_data)\n",
    "    labels.append(\"Deepfake\")\n",
    "\n",
    "data = np.array(data)\n",
    "labels = np.array(labels)\n",
    "\n",
    "# Normalize the image data\n",
    "data = data / 255.0\n",
    "\n",
    "# Encode labels\n",
    "le = LabelEncoder()\n",
    "labels_encoded = le.fit_transform(labels)\n",
    "\n",
    "# Split the dataset into train and test sets\n",
    "X_train, X_test, y_train, y_test = train_test_split(data, labels_encoded, test_size=0.2, random_state=42)"
   ]
  },
  {
   "cell_type": "code",
   "execution_count": 16,
   "metadata": {},
   "outputs": [
    {
     "name": "stdout",
     "output_type": "stream",
     "text": [
      "Epoch 1/10\n",
      "273/273 [==============================] - 23s 79ms/step - loss: 0.6387 - accuracy: 0.6259 - val_loss: 0.5464 - val_accuracy: 0.7258\n",
      "Epoch 2/10\n",
      "273/273 [==============================] - 21s 77ms/step - loss: 0.5392 - accuracy: 0.7254 - val_loss: 0.4957 - val_accuracy: 0.7501\n",
      "Epoch 3/10\n",
      "273/273 [==============================] - 21s 77ms/step - loss: 0.4902 - accuracy: 0.7561 - val_loss: 0.4893 - val_accuracy: 0.7607\n",
      "Epoch 4/10\n",
      "273/273 [==============================] - 21s 77ms/step - loss: 0.4395 - accuracy: 0.7875 - val_loss: 0.4641 - val_accuracy: 0.7735\n",
      "Epoch 5/10\n",
      "273/273 [==============================] - 21s 77ms/step - loss: 0.3875 - accuracy: 0.8180 - val_loss: 0.4232 - val_accuracy: 0.7964\n",
      "Epoch 6/10\n",
      "273/273 [==============================] - 21s 77ms/step - loss: 0.3250 - accuracy: 0.8549 - val_loss: 0.4048 - val_accuracy: 0.8198\n",
      "Epoch 7/10\n",
      "273/273 [==============================] - 21s 77ms/step - loss: 0.2789 - accuracy: 0.8804 - val_loss: 0.3711 - val_accuracy: 0.8221\n",
      "Epoch 8/10\n",
      "273/273 [==============================] - 21s 76ms/step - loss: 0.2330 - accuracy: 0.9021 - val_loss: 0.4247 - val_accuracy: 0.8267\n",
      "Epoch 9/10\n",
      "273/273 [==============================] - 21s 77ms/step - loss: 0.1800 - accuracy: 0.9249 - val_loss: 0.3945 - val_accuracy: 0.8418\n",
      "Epoch 10/10\n",
      "273/273 [==============================] - 21s 76ms/step - loss: 0.1392 - accuracy: 0.9452 - val_loss: 0.4127 - val_accuracy: 0.8432\n"
     ]
    },
    {
     "name": "stderr",
     "output_type": "stream",
     "text": [
      "/home/hpcsap/Videos/AI/directory_env/ML_sep2023/lib/python3.11/site-packages/keras/src/engine/training.py:3103: UserWarning: You are saving your model as an HDF5 file via `model.save()`. This file format is considered legacy. We recommend using instead the native Keras format, e.g. `model.save('my_model.keras')`.\n",
      "  saving_api.save_model(\n"
     ]
    }
   ],
   "source": [
    "model = Sequential()\n",
    "\n",
    "model.add(Conv2D(32, (3, 3), activation='relu', input_shape=(100, 100, 3)))\n",
    "model.add(MaxPooling2D((2, 2)))\n",
    "\n",
    "model.add(Conv2D(64, (3, 3), activation='relu'))\n",
    "model.add(MaxPooling2D((2, 2)))\n",
    "\n",
    "model.add(Conv2D(128, (3, 3), activation='relu'))\n",
    "model.add(MaxPooling2D((2, 2)))\n",
    "\n",
    "model.add(Flatten())\n",
    "model.add(Dense(128, activation='relu'))\n",
    "model.add(Dense(1, activation='sigmoid'))\n",
    "\n",
    "model.compile(optimizer='adam', loss='binary_crossentropy', metrics=['accuracy'])\n",
    "\n",
    "model.fit(X_train, y_train, epochs=10, batch_size=32, validation_data=(X_test, y_test))\n",
    "\n",
    "# Save the trained model for feature extraction\n",
    "model.save(\"cnn_model.h5\")"
   ]
  },
  {
   "cell_type": "code",
   "execution_count": 17,
   "metadata": {},
   "outputs": [
    {
     "name": "stdout",
     "output_type": "stream",
     "text": [
      "273/273 [==============================] - 6s 23ms/step\n",
      "69/69 [==============================] - 2s 22ms/step\n"
     ]
    }
   ],
   "source": [
    "cnn_model = tf.keras.models.load_model(\"cnn_model.h5\")\n",
    "\n",
    "train_features = cnn_model.predict(X_train)\n",
    "test_features = cnn_model.predict(X_test)"
   ]
  },
  {
   "cell_type": "code",
   "execution_count": 18,
   "metadata": {},
   "outputs": [
    {
     "data": {
      "text/html": [
       "<style>#sk-container-id-2 {color: black;}#sk-container-id-2 pre{padding: 0;}#sk-container-id-2 div.sk-toggleable {background-color: white;}#sk-container-id-2 label.sk-toggleable__label {cursor: pointer;display: block;width: 100%;margin-bottom: 0;padding: 0.3em;box-sizing: border-box;text-align: center;}#sk-container-id-2 label.sk-toggleable__label-arrow:before {content: \"▸\";float: left;margin-right: 0.25em;color: #696969;}#sk-container-id-2 label.sk-toggleable__label-arrow:hover:before {color: black;}#sk-container-id-2 div.sk-estimator:hover label.sk-toggleable__label-arrow:before {color: black;}#sk-container-id-2 div.sk-toggleable__content {max-height: 0;max-width: 0;overflow: hidden;text-align: left;background-color: #f0f8ff;}#sk-container-id-2 div.sk-toggleable__content pre {margin: 0.2em;color: black;border-radius: 0.25em;background-color: #f0f8ff;}#sk-container-id-2 input.sk-toggleable__control:checked~div.sk-toggleable__content {max-height: 200px;max-width: 100%;overflow: auto;}#sk-container-id-2 input.sk-toggleable__control:checked~label.sk-toggleable__label-arrow:before {content: \"▾\";}#sk-container-id-2 div.sk-estimator input.sk-toggleable__control:checked~label.sk-toggleable__label {background-color: #d4ebff;}#sk-container-id-2 div.sk-label input.sk-toggleable__control:checked~label.sk-toggleable__label {background-color: #d4ebff;}#sk-container-id-2 input.sk-hidden--visually {border: 0;clip: rect(1px 1px 1px 1px);clip: rect(1px, 1px, 1px, 1px);height: 1px;margin: -1px;overflow: hidden;padding: 0;position: absolute;width: 1px;}#sk-container-id-2 div.sk-estimator {font-family: monospace;background-color: #f0f8ff;border: 1px dotted black;border-radius: 0.25em;box-sizing: border-box;margin-bottom: 0.5em;}#sk-container-id-2 div.sk-estimator:hover {background-color: #d4ebff;}#sk-container-id-2 div.sk-parallel-item::after {content: \"\";width: 100%;border-bottom: 1px solid gray;flex-grow: 1;}#sk-container-id-2 div.sk-label:hover label.sk-toggleable__label {background-color: #d4ebff;}#sk-container-id-2 div.sk-serial::before {content: \"\";position: absolute;border-left: 1px solid gray;box-sizing: border-box;top: 0;bottom: 0;left: 50%;z-index: 0;}#sk-container-id-2 div.sk-serial {display: flex;flex-direction: column;align-items: center;background-color: white;padding-right: 0.2em;padding-left: 0.2em;position: relative;}#sk-container-id-2 div.sk-item {position: relative;z-index: 1;}#sk-container-id-2 div.sk-parallel {display: flex;align-items: stretch;justify-content: center;background-color: white;position: relative;}#sk-container-id-2 div.sk-item::before, #sk-container-id-2 div.sk-parallel-item::before {content: \"\";position: absolute;border-left: 1px solid gray;box-sizing: border-box;top: 0;bottom: 0;left: 50%;z-index: -1;}#sk-container-id-2 div.sk-parallel-item {display: flex;flex-direction: column;z-index: 1;position: relative;background-color: white;}#sk-container-id-2 div.sk-parallel-item:first-child::after {align-self: flex-end;width: 50%;}#sk-container-id-2 div.sk-parallel-item:last-child::after {align-self: flex-start;width: 50%;}#sk-container-id-2 div.sk-parallel-item:only-child::after {width: 0;}#sk-container-id-2 div.sk-dashed-wrapped {border: 1px dashed gray;margin: 0 0.4em 0.5em 0.4em;box-sizing: border-box;padding-bottom: 0.4em;background-color: white;}#sk-container-id-2 div.sk-label label {font-family: monospace;font-weight: bold;display: inline-block;line-height: 1.2em;}#sk-container-id-2 div.sk-label-container {text-align: center;}#sk-container-id-2 div.sk-container {/* jupyter's `normalize.less` sets `[hidden] { display: none; }` but bootstrap.min.css set `[hidden] { display: none !important; }` so we also need the `!important` here to be able to override the default hidden behavior on the sphinx rendered scikit-learn.org. See: https://github.com/scikit-learn/scikit-learn/issues/21755 */display: inline-block !important;position: relative;}#sk-container-id-2 div.sk-text-repr-fallback {display: none;}</style><div id=\"sk-container-id-2\" class=\"sk-top-container\"><div class=\"sk-text-repr-fallback\"><pre>RandomForestClassifier()</pre><b>In a Jupyter environment, please rerun this cell to show the HTML representation or trust the notebook. <br />On GitHub, the HTML representation is unable to render, please try loading this page with nbviewer.org.</b></div><div class=\"sk-container\" hidden><div class=\"sk-item\"><div class=\"sk-estimator sk-toggleable\"><input class=\"sk-toggleable__control sk-hidden--visually\" id=\"sk-estimator-id-2\" type=\"checkbox\" checked><label for=\"sk-estimator-id-2\" class=\"sk-toggleable__label sk-toggleable__label-arrow\">RandomForestClassifier</label><div class=\"sk-toggleable__content\"><pre>RandomForestClassifier()</pre></div></div></div></div></div>"
      ],
      "text/plain": [
       "RandomForestClassifier()"
      ]
     },
     "execution_count": 18,
     "metadata": {},
     "output_type": "execute_result"
    }
   ],
   "source": [
    "# SVM\n",
    "svm_model = svm.SVC()\n",
    "svm_model.fit(train_features, y_train)\n",
    "\n",
    "# KNN\n",
    "knn_model = neighbors.KNeighborsClassifier()\n",
    "knn_model.fit(train_features, y_train)\n",
    "\n",
    "# Random Forest\n",
    "rf_model = ensemble.RandomForestClassifier()\n",
    "rf_model.fit(train_features, y_train)"
   ]
  },
  {
   "cell_type": "code",
   "execution_count": 19,
   "metadata": {},
   "outputs": [
    {
     "name": "stdout",
     "output_type": "stream",
     "text": [
      "SVM Accuracy: 0.8436497019715726\n",
      "SVM Classification Report:\n",
      "               precision    recall  f1-score   support\n",
      "\n",
      "           0       0.84      0.85      0.84      1093\n",
      "           1       0.85      0.84      0.84      1088\n",
      "\n",
      "    accuracy                           0.84      2181\n",
      "   macro avg       0.84      0.84      0.84      2181\n",
      "weighted avg       0.84      0.84      0.84      2181\n",
      "\n",
      "KNN Accuracy: 0.8404401650618982\n",
      "KNN Classification Report:\n",
      "               precision    recall  f1-score   support\n",
      "\n",
      "           0       0.83      0.85      0.84      1093\n",
      "           1       0.85      0.83      0.84      1088\n",
      "\n",
      "    accuracy                           0.84      2181\n",
      "   macro avg       0.84      0.84      0.84      2181\n",
      "weighted avg       0.84      0.84      0.84      2181\n",
      "\n",
      "Random Forest Accuracy: 0.8367721228794132\n",
      "Random Forest Classification Report:\n",
      "               precision    recall  f1-score   support\n",
      "\n",
      "           0       0.84      0.84      0.84      1093\n",
      "           1       0.84      0.84      0.84      1088\n",
      "\n",
      "    accuracy                           0.84      2181\n",
      "   macro avg       0.84      0.84      0.84      2181\n",
      "weighted avg       0.84      0.84      0.84      2181\n",
      "\n"
     ]
    }
   ],
   "source": [
    "# SVM\n",
    "svm_params = {'C': [1, 10, 100], 'kernel': ['linear', 'rbf']}\n",
    "svm_tuned = GridSearchCV(estimator=svm_model, param_grid=svm_params, scoring='accuracy', cv=3)\n",
    "svm_tuned.fit(train_features, y_train)\n",
    "svm_best = svm_tuned.best_estimator_\n",
    "\n",
    "svm_pred = svm_best.predict(test_features)\n",
    "svm_accuracy = accuracy_score(y_test, svm_pred)\n",
    "svm_classification_report = classification_report(y_test, svm_pred)\n",
    "\n",
    "# KNN\n",
    "knn_params = {'n_neighbors': [3, 5, 7]}\n",
    "knn_tuned = GridSearchCV(estimator=knn_model, param_grid=knn_params, scoring='accuracy', cv=3)\n",
    "knn_tuned.fit(train_features, y_train)\n",
    "knn_best = knn_tuned.best_estimator_\n",
    "\n",
    "knn_pred = knn_best.predict(test_features)\n",
    "knn_accuracy = accuracy_score(y_test, knn_pred)\n",
    "knn_classification_report = classification_report(y_test, knn_pred)\n",
    "\n",
    "# Random Forest\n",
    "rf_params = {'n_estimators': [100, 200, 300], 'max_depth': [None, 10, 20]}\n",
    "rf_tuned = GridSearchCV(estimator=rf_model, param_grid=rf_params, scoring='accuracy', cv=3)\n",
    "rf_tuned.fit(train_features, y_train)\n",
    "rf_best = rf_tuned.best_estimator_\n",
    "\n",
    "rf_pred = rf_best.predict(test_features)\n",
    "rf_accuracy = accuracy_score(y_test, rf_pred)\n",
    "rf_classification_report = classification_report(y_test, rf_pred)\n",
    "\n",
    "print(\"SVM Accuracy:\", svm_accuracy)\n",
    "print(\"SVM Classification Report:\\n\", svm_classification_report)\n",
    "\n",
    "print(\"KNN Accuracy:\", knn_accuracy)\n",
    "print(\"KNN Classification Report:\\n\", knn_classification_report)\n",
    "\n",
    "print(\"Random Forest Accuracy:\", rf_accuracy)\n",
    "print(\"Random Forest Classification Report:\\n\", rf_classification_report)"
   ]
  },
  {
   "cell_type": "code",
   "execution_count": 20,
   "metadata": {},
   "outputs": [
    {
     "data": {
      "text/plain": [
       "['best_model.joblib']"
      ]
     },
     "execution_count": 20,
     "metadata": {},
     "output_type": "execute_result"
    }
   ],
   "source": [
    "# Choose the best model based on the highest accuracy\n",
    "best_model = svm_best if svm_accuracy > knn_accuracy and svm_accuracy > rf_accuracy else knn_best if knn_accuracy > rf_accuracy else rf_best\n",
    "\n",
    "# Save the best model\n",
    "joblib.dump(best_model, \"best_model.joblib\")"
   ]
  },
  {
   "cell_type": "code",
   "execution_count": 23,
   "metadata": {},
   "outputs": [
    {
     "name": "stdout",
     "output_type": "stream",
     "text": [
      " * Serving Flask app '__main__'\n",
      " * Debug mode: on\n"
     ]
    },
    {
     "name": "stderr",
     "output_type": "stream",
     "text": [
      "\u001b[31m\u001b[1mWARNING: This is a development server. Do not use it in a production deployment. Use a production WSGI server instead.\u001b[0m\n",
      " * Running on http://127.0.0.1:5000\n",
      "\u001b[33mPress CTRL+C to quit\u001b[0m\n",
      "127.0.0.1 - - [18/Feb/2024 13:44:43] \"GET / HTTP/1.1\" 200 -\n",
      "127.0.0.1 - - [18/Feb/2024 13:44:44] \"\u001b[33mGET /favicon.ico HTTP/1.1\u001b[0m\" 404 -\n"
     ]
    },
    {
     "name": "stdout",
     "output_type": "stream",
     "text": [
      "1/1 [==============================] - 0s 29ms/step\n"
     ]
    },
    {
     "name": "stderr",
     "output_type": "stream",
     "text": [
      "127.0.0.1 - - [18/Feb/2024 13:45:25] \"POST / HTTP/1.1\" 200 -\n"
     ]
    },
    {
     "name": "stdout",
     "output_type": "stream",
     "text": [
      "1/1 [==============================] - 0s 30ms/step\n"
     ]
    },
    {
     "name": "stderr",
     "output_type": "stream",
     "text": [
      "127.0.0.1 - - [18/Feb/2024 13:46:09] \"POST / HTTP/1.1\" 200 -\n"
     ]
    }
   ],
   "source": [
    "from flask import Flask, render_template, request\n",
    "\n",
    "app = Flask(__name__)\n",
    "\n",
    "model = joblib.load(\"best_model.joblib\")\n",
    "\n",
    "@app.route(\"/\", methods=[\"GET\", \"POST\"])\n",
    "def index():\n",
    "    if request.method == \"POST\":\n",
    "        file = request.files[\"file\"]\n",
    "        if file:\n",
    "            image = cv2.imdecode(np.frombuffer(file.read(), np.uint8), 1)\n",
    "            image = cv2.resize(image, (100, 100))\n",
    "            image = image / 255.0\n",
    "            image_features = cnn_model.predict(np.array([image]))\n",
    "            prediction = le.inverse_transform(model.predict(image_features))[0]\n",
    "            return render_template(\"index.html\", prediction=prediction)\n",
    "        else:\n",
    "            return render_template(\"index.html\")\n",
    "    else:\n",
    "        return render_template(\"index.html\")\n",
    "\n",
    "\n",
    "if __name__ == '__main__':\n",
    "    app.run(debug=True, use_reloader=False)"
   ]
  }
 ],
 "metadata": {
  "kernelspec": {
   "display_name": "Python 3",
   "language": "python",
   "name": "python3"
  },
  "language_info": {
   "codemirror_mode": {
    "name": "ipython",
    "version": 3
   },
   "file_extension": ".py",
   "mimetype": "text/x-python",
   "name": "python",
   "nbconvert_exporter": "python",
   "pygments_lexer": "ipython3",
   "version": "3.11.4"
  }
 },
 "nbformat": 4,
 "nbformat_minor": 2
}
